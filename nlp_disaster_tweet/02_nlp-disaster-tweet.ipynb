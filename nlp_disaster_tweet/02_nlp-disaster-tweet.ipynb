{
 "metadata": {
  "kernelspec": {
   "language": "python",
   "display_name": "Python 3",
   "name": "python3"
  },
  "language_info": {
   "name": "python",
   "version": "3.7.10",
   "mimetype": "text/x-python",
   "codemirror_mode": {
    "name": "ipython",
    "version": 3
   },
   "pygments_lexer": "ipython3",
   "nbconvert_exporter": "python",
   "file_extension": ".py"
  }
 },
 "nbformat_minor": 4,
 "nbformat": 4,
 "cells": [
  {
   "cell_type": "markdown",
   "source": "# Kaggle Natural Language Process Project : Disaster Tweets\n## project link : https://www.kaggle.com/c/nlp-getting-started",
   "metadata": {}
  },
  {
   "cell_type": "code",
   "source": "# This Python 3 environment comes with many helpful analytics libraries installed\n# It is defined by the kaggle/python Docker image: https://github.com/kaggle/docker-python\n# For example, here's several helpful packages to load\nimport numpy as np # linear algebra\nimport pandas as pd # data processing, CSV file I/O (e.g. pd.read_csv)\n\n# Input data files are available in the read-only \"../input/\" directory\n# For example, running this (by clicking run or pressing Shift+Enter) will list all files under the input directory\n# version 1 module -> Sklearn\nfrom sklearn import feature_extraction, linear_model, model_selection, preprocessing\nfrom sklearn.model_selection import train_test_split\n\nimport os\nfor dirname, _, filenames in os.walk('/kaggle/input'):\n    for filename in filenames:\n        print(os.path.join(dirname, filename))\n\n# You can write up to 20GB to the current directory (/kaggle/working/) that gets preserved as output when you create a version using \"Save & Run All\" \n# You can also write temporary files to /kaggle/temp/, but they won't be saved outside of the current session",
   "metadata": {
    "_uuid": "8f2839f25d086af736a60e9eeb907d3b93b6e0e5",
    "_cell_guid": "b1076dfc-b9ad-4769-8c92-a6c4dae69d19",
    "execution": {
     "iopub.status.busy": "2021-10-19T08:52:44.657723Z",
     "iopub.execute_input": "2021-10-19T08:52:44.657990Z",
     "iopub.status.idle": "2021-10-19T08:52:44.669207Z",
     "shell.execute_reply.started": "2021-10-19T08:52:44.657960Z",
     "shell.execute_reply": "2021-10-19T08:52:44.668344Z"
    },
    "trusted": true
   },
   "execution_count": 422,
   "outputs": []
  },
  {
   "cell_type": "code",
   "source": "# version 2 module : keras & tensorflow\nimport tensorflow.keras as keras\nimport tensorflow\nfrom keras.models import Sequential\nfrom keras.layers import LSTM,SimpleRNN\nfrom keras.layers import Dense, Embedding, Bidirectional, Dropout, Flatten\nfrom tensorflow.keras.optimizers import Adam\nfrom tensorflow.python.keras.preprocessing.text import Tokenizer\nfrom tensorflow.python.keras.preprocessing.sequence import pad_sequences",
   "metadata": {
    "execution": {
     "iopub.status.busy": "2021-10-19T08:52:44.671804Z",
     "iopub.execute_input": "2021-10-19T08:52:44.672345Z",
     "iopub.status.idle": "2021-10-19T08:52:44.679653Z",
     "shell.execute_reply.started": "2021-10-19T08:52:44.672308Z",
     "shell.execute_reply": "2021-10-19T08:52:44.678975Z"
    },
    "trusted": true
   },
   "execution_count": 423,
   "outputs": []
  },
  {
   "cell_type": "code",
   "source": "train_all = pd.read_csv(\"/kaggle/input/nlp-getting-started/train.csv\")\ntrain_all.head()",
   "metadata": {
    "execution": {
     "iopub.status.busy": "2021-10-19T08:52:44.680910Z",
     "iopub.execute_input": "2021-10-19T08:52:44.681845Z",
     "iopub.status.idle": "2021-10-19T08:52:44.713927Z",
     "shell.execute_reply.started": "2021-10-19T08:52:44.681806Z",
     "shell.execute_reply": "2021-10-19T08:52:44.713258Z"
    },
    "trusted": true
   },
   "execution_count": 424,
   "outputs": []
  },
  {
   "cell_type": "code",
   "source": "# count NaN in keyword, location (NaN is not in id, text, target)\ntrain_all_na = train_all.isna().sum()\ntrain_all_na",
   "metadata": {
    "execution": {
     "iopub.status.busy": "2021-10-19T08:52:44.714872Z",
     "iopub.execute_input": "2021-10-19T08:52:44.715755Z",
     "iopub.status.idle": "2021-10-19T08:52:44.725999Z",
     "shell.execute_reply.started": "2021-10-19T08:52:44.715718Z",
     "shell.execute_reply": "2021-10-19T08:52:44.725292Z"
    },
    "trusted": true
   },
   "execution_count": 425,
   "outputs": []
  },
  {
   "cell_type": "code",
   "source": "# Non-Target Data\ntrain_all[train_all[\"target\"] == 0][\"text\"].values[0]",
   "metadata": {
    "execution": {
     "iopub.status.busy": "2021-10-19T08:52:44.728648Z",
     "iopub.execute_input": "2021-10-19T08:52:44.729237Z",
     "iopub.status.idle": "2021-10-19T08:52:44.736719Z",
     "shell.execute_reply.started": "2021-10-19T08:52:44.729202Z",
     "shell.execute_reply": "2021-10-19T08:52:44.735856Z"
    },
    "trusted": true
   },
   "execution_count": 426,
   "outputs": []
  },
  {
   "cell_type": "code",
   "source": "train_all[train_all[\"target\"] == 1][\"text\"].values[0]",
   "metadata": {
    "execution": {
     "iopub.status.busy": "2021-10-19T08:52:44.738271Z",
     "iopub.execute_input": "2021-10-19T08:52:44.738824Z",
     "iopub.status.idle": "2021-10-19T08:52:44.746772Z",
     "shell.execute_reply.started": "2021-10-19T08:52:44.738790Z",
     "shell.execute_reply": "2021-10-19T08:52:44.745895Z"
    },
    "trusted": true
   },
   "execution_count": 427,
   "outputs": []
  },
  {
   "cell_type": "code",
   "source": "test = pd.read_csv(\"/kaggle/input/nlp-getting-started/test.csv\")\ntest.head()",
   "metadata": {
    "execution": {
     "iopub.status.busy": "2021-10-19T08:52:44.748279Z",
     "iopub.execute_input": "2021-10-19T08:52:44.748780Z",
     "iopub.status.idle": "2021-10-19T08:52:44.770222Z",
     "shell.execute_reply.started": "2021-10-19T08:52:44.748746Z",
     "shell.execute_reply": "2021-10-19T08:52:44.769394Z"
    },
    "trusted": true
   },
   "execution_count": 428,
   "outputs": []
  },
  {
   "cell_type": "code",
   "source": "test_na = test.isna().sum()\ntest_na",
   "metadata": {
    "execution": {
     "iopub.status.busy": "2021-10-19T08:52:44.771480Z",
     "iopub.execute_input": "2021-10-19T08:52:44.771721Z",
     "iopub.status.idle": "2021-10-19T08:52:44.781556Z",
     "shell.execute_reply.started": "2021-10-19T08:52:44.771690Z",
     "shell.execute_reply": "2021-10-19T08:52:44.780528Z"
    },
    "trusted": true
   },
   "execution_count": 429,
   "outputs": []
  },
  {
   "cell_type": "code",
   "source": "sample_answer = pd.read_csv(\"/kaggle/input/nlp-getting-started/sample_submission.csv\")\nsample_answer",
   "metadata": {
    "execution": {
     "iopub.status.busy": "2021-10-19T08:52:44.783238Z",
     "iopub.execute_input": "2021-10-19T08:52:44.783582Z",
     "iopub.status.idle": "2021-10-19T08:52:44.800243Z",
     "shell.execute_reply.started": "2021-10-19T08:52:44.783547Z",
     "shell.execute_reply": "2021-10-19T08:52:44.799449Z"
    },
    "trusted": true
   },
   "execution_count": 430,
   "outputs": []
  },
  {
   "cell_type": "code",
   "source": "train_all = train_all.drop(['id', 'keyword', 'location'], axis=1)\ntest = test.drop(['id', 'keyword', 'location'], axis=1)",
   "metadata": {
    "execution": {
     "iopub.status.busy": "2021-10-19T08:52:44.801653Z",
     "iopub.execute_input": "2021-10-19T08:52:44.801922Z",
     "iopub.status.idle": "2021-10-19T08:52:44.808484Z",
     "shell.execute_reply.started": "2021-10-19T08:52:44.801890Z",
     "shell.execute_reply": "2021-10-19T08:52:44.807559Z"
    },
    "trusted": true
   },
   "execution_count": 431,
   "outputs": []
  },
  {
   "cell_type": "code",
   "source": "y_train =  train_all['target'].values\nx_train = train_all.drop(['target'], axis=1).values.reshape(len(train_all),)\nx_test = test['text'].values.reshape(len(test),)",
   "metadata": {
    "execution": {
     "iopub.status.busy": "2021-10-19T08:52:44.809841Z",
     "iopub.execute_input": "2021-10-19T08:52:44.810405Z",
     "iopub.status.idle": "2021-10-19T08:52:44.819339Z",
     "shell.execute_reply.started": "2021-10-19T08:52:44.810370Z",
     "shell.execute_reply": "2021-10-19T08:52:44.818391Z"
    },
    "trusted": true
   },
   "execution_count": 432,
   "outputs": []
  },
  {
   "cell_type": "code",
   "source": "total_tweets = np.concatenate((x_train, x_test))\nprint('Total tweets : ', len(total_tweets))",
   "metadata": {
    "execution": {
     "iopub.status.busy": "2021-10-19T08:52:44.820669Z",
     "iopub.execute_input": "2021-10-19T08:52:44.821488Z",
     "iopub.status.idle": "2021-10-19T08:52:44.827411Z",
     "shell.execute_reply.started": "2021-10-19T08:52:44.821435Z",
     "shell.execute_reply": "2021-10-19T08:52:44.826506Z"
    },
    "trusted": true
   },
   "execution_count": 433,
   "outputs": []
  },
  {
   "cell_type": "code",
   "source": "tokenizer = Tokenizer()\ntokenizer.fit_on_texts(total_tweets)\n\n# 전체 단어 길이 가져오기\nvocab_size = len(tokenizer.word_index) + 1\nprint('Size of Vocabulary : ', vocab_size)",
   "metadata": {
    "execution": {
     "iopub.status.busy": "2021-10-19T08:52:44.831465Z",
     "iopub.execute_input": "2021-10-19T08:52:44.832196Z",
     "iopub.status.idle": "2021-10-19T08:52:45.101441Z",
     "shell.execute_reply.started": "2021-10-19T08:52:44.832160Z",
     "shell.execute_reply": "2021-10-19T08:52:45.100695Z"
    },
    "trusted": true
   },
   "execution_count": 434,
   "outputs": []
  },
  {
   "cell_type": "code",
   "source": "# Maximum length for padding sequence\nmaxlen = max(len(x.split()) for x in total_tweets)\nprint('Maximum length of tweet : ', maxlen)",
   "metadata": {
    "execution": {
     "iopub.status.busy": "2021-10-19T08:52:45.102698Z",
     "iopub.execute_input": "2021-10-19T08:52:45.103136Z",
     "iopub.status.idle": "2021-10-19T08:52:45.122782Z",
     "shell.execute_reply.started": "2021-10-19T08:52:45.103097Z",
     "shell.execute_reply": "2021-10-19T08:52:45.122129Z"
    },
    "trusted": true
   },
   "execution_count": 435,
   "outputs": []
  },
  {
   "cell_type": "code",
   "source": "X_train_token = tokenizer.texts_to_sequences(x_train)\nX_test_token = tokenizer.texts_to_sequences(x_test)\n\nprint('Text before tokenized')\nprint(x_train[0])\nprint('\\nText after tokenized')\nprint(X_train_token[0])",
   "metadata": {
    "execution": {
     "iopub.status.busy": "2021-10-19T08:52:45.124175Z",
     "iopub.execute_input": "2021-10-19T08:52:45.124420Z",
     "iopub.status.idle": "2021-10-19T08:52:45.307576Z",
     "shell.execute_reply.started": "2021-10-19T08:52:45.124387Z",
     "shell.execute_reply": "2021-10-19T08:52:45.306735Z"
    },
    "trusted": true
   },
   "execution_count": 436,
   "outputs": []
  },
  {
   "cell_type": "code",
   "source": "X_train_pad = pad_sequences(X_train_token, maxlen=maxlen, padding='post')\nX_test_pad = pad_sequences(X_test_token, maxlen=maxlen, padding='post')\n\nprint('Tokenized text before padding')\nprint(X_train_token[0])\nprint('\\nTokenized text after padding')\nprint(X_train_pad[0])",
   "metadata": {
    "execution": {
     "iopub.status.busy": "2021-10-19T08:52:45.309031Z",
     "iopub.execute_input": "2021-10-19T08:52:45.309317Z",
     "iopub.status.idle": "2021-10-19T08:52:45.430551Z",
     "shell.execute_reply.started": "2021-10-19T08:52:45.309282Z",
     "shell.execute_reply": "2021-10-19T08:52:45.429770Z"
    },
    "trusted": true
   },
   "execution_count": 437,
   "outputs": []
  },
  {
   "cell_type": "code",
   "source": "embed_units=100\nhidden_units=128\n\nmodel=Sequential()\nmodel.add(Embedding(vocab_size, embed_units, input_length = maxlen))\nmodel.add(SimpleRNN(hidden_units))\nmodel.add(Dropout(0.2))\nmodel.add(Dense(256, activation='relu'))\nmodel.add(Dropout(0.2))\n\nmodel.add(Dense(1, activation='sigmoid'))\n\nmodel.summary()",
   "metadata": {
    "execution": {
     "iopub.status.busy": "2021-10-19T08:52:45.431645Z",
     "iopub.execute_input": "2021-10-19T08:52:45.432359Z",
     "iopub.status.idle": "2021-10-19T08:52:45.437018Z",
     "shell.execute_reply.started": "2021-10-19T08:52:45.432319Z",
     "shell.execute_reply": "2021-10-19T08:52:45.436239Z"
    },
    "trusted": true
   },
   "execution_count": 438,
   "outputs": []
  },
  {
   "cell_type": "code",
   "source": "learning_rate = 1e-4\n\nmodel.compile(loss = 'binary_crossentropy',\n              optimizer = 'adam',\n              metrics = ['accuracy'])",
   "metadata": {
    "execution": {
     "iopub.status.busy": "2021-10-19T08:52:45.438274Z",
     "iopub.execute_input": "2021-10-19T08:52:45.438869Z",
     "iopub.status.idle": "2021-10-19T08:52:45.445434Z",
     "shell.execute_reply.started": "2021-10-19T08:52:45.438809Z",
     "shell.execute_reply": "2021-10-19T08:52:45.444527Z"
    },
    "trusted": true
   },
   "execution_count": 439,
   "outputs": []
  },
  {
   "cell_type": "code",
   "source": "es_cb=keras.callbacks.EarlyStopping( patience=5, verbose=1)\nmodel_history = model.fit(X_train_pad, y_train, \n                          batch_size=64, \n                          epochs=15, \n                          validation_split=0.3,\n                          callbacks=[es_cb])",
   "metadata": {
    "execution": {
     "iopub.status.busy": "2021-10-19T08:52:45.446739Z",
     "iopub.execute_input": "2021-10-19T08:52:45.447460Z",
     "iopub.status.idle": "2021-10-19T08:52:45.453961Z",
     "shell.execute_reply.started": "2021-10-19T08:52:45.447425Z",
     "shell.execute_reply": "2021-10-19T08:52:45.453037Z"
    },
    "trusted": true
   },
   "execution_count": 440,
   "outputs": []
  },
  {
   "cell_type": "code",
   "source": "pred = model.predict(X_test_pad, verbose=1)",
   "metadata": {
    "execution": {
     "iopub.status.busy": "2021-10-19T08:52:45.455292Z",
     "iopub.execute_input": "2021-10-19T08:52:45.455986Z",
     "iopub.status.idle": "2021-10-19T08:52:45.463997Z",
     "shell.execute_reply.started": "2021-10-19T08:52:45.455953Z",
     "shell.execute_reply": "2021-10-19T08:52:45.463322Z"
    },
    "trusted": true
   },
   "execution_count": 441,
   "outputs": []
  },
  {
   "cell_type": "code",
   "source": "sample_answer[\"target\"] = pred\nsample_answer[\"target\"] = sample_answer[\"target\"].apply(lambda x : 0 if x<=.5 else 1)",
   "metadata": {
    "execution": {
     "iopub.status.busy": "2021-10-19T08:52:45.465191Z",
     "iopub.execute_input": "2021-10-19T08:52:45.465991Z",
     "iopub.status.idle": "2021-10-19T08:52:45.472155Z",
     "shell.execute_reply.started": "2021-10-19T08:52:45.465955Z",
     "shell.execute_reply": "2021-10-19T08:52:45.471112Z"
    },
    "trusted": true
   },
   "execution_count": 442,
   "outputs": []
  },
  {
   "cell_type": "code",
   "source": "sample_answer.to_csv(\"submission.csv\", index=False)",
   "metadata": {
    "execution": {
     "iopub.status.busy": "2021-10-19T08:52:45.473591Z",
     "iopub.execute_input": "2021-10-19T08:52:45.474390Z",
     "iopub.status.idle": "2021-10-19T08:52:45.479395Z",
     "shell.execute_reply.started": "2021-10-19T08:52:45.474354Z",
     "shell.execute_reply": "2021-10-19T08:52:45.478420Z"
    },
    "trusted": true
   },
   "execution_count": 443,
   "outputs": []
  },
  {
   "cell_type": "markdown",
   "source": "# Bidirectional Model",
   "metadata": {}
  },
  {
   "cell_type": "code",
   "source": "model_BRNN=Sequential()\nmodel_BRNN.add(Embedding(vocab_size, embed_units, input_length = maxlen))\nmodel_BRNN.add(Bidirectional(SimpleRNN(hidden_units)))\nmodel_BRNN.add(Dropout(0.2))\nmodel_BRNN.add(Dense(256, activation='relu'))\nmodel_BRNN.add(Dropout(0.2))\nmodel_BRNN.add(Dense(1, activation='sigmoid'))\n\nmodel_BRNN.summary()",
   "metadata": {
    "execution": {
     "iopub.status.busy": "2021-10-19T08:52:45.481124Z",
     "iopub.execute_input": "2021-10-19T08:52:45.481372Z",
     "iopub.status.idle": "2021-10-19T08:52:45.486938Z",
     "shell.execute_reply.started": "2021-10-19T08:52:45.481340Z",
     "shell.execute_reply": "2021-10-19T08:52:45.486099Z"
    },
    "trusted": true
   },
   "execution_count": 444,
   "outputs": []
  },
  {
   "cell_type": "code",
   "source": "learning_rate = 1e-4\n\nmodel_BRNN.compile(loss = 'binary_crossentropy',\n              optimizer = 'adam',\n              metrics = ['accuracy'])",
   "metadata": {
    "execution": {
     "iopub.status.busy": "2021-10-19T08:52:45.488199Z",
     "iopub.execute_input": "2021-10-19T08:52:45.488587Z",
     "iopub.status.idle": "2021-10-19T08:52:45.495300Z",
     "shell.execute_reply.started": "2021-10-19T08:52:45.488551Z",
     "shell.execute_reply": "2021-10-19T08:52:45.494450Z"
    },
    "trusted": true
   },
   "execution_count": 445,
   "outputs": []
  },
  {
   "cell_type": "code",
   "source": "model_BRNN_history = model_BRNN.fit(X_train_pad, y_train, \n                          batch_size=128, \n                          epochs=15, \n                          validation_split=0.2,\n                          callbacks=[es_cb])",
   "metadata": {
    "execution": {
     "iopub.status.busy": "2021-10-19T08:52:45.496444Z",
     "iopub.execute_input": "2021-10-19T08:52:45.497228Z",
     "iopub.status.idle": "2021-10-19T08:52:45.508824Z",
     "shell.execute_reply.started": "2021-10-19T08:52:45.497190Z",
     "shell.execute_reply": "2021-10-19T08:52:45.508062Z"
    },
    "trusted": true
   },
   "execution_count": 446,
   "outputs": []
  },
  {
   "cell_type": "code",
   "source": "pred = model_BRNN.predict(X_test_pad, verbose=1)",
   "metadata": {
    "execution": {
     "iopub.status.busy": "2021-10-19T08:52:45.509809Z",
     "iopub.execute_input": "2021-10-19T08:52:45.509994Z",
     "iopub.status.idle": "2021-10-19T08:52:45.517768Z",
     "shell.execute_reply.started": "2021-10-19T08:52:45.509973Z",
     "shell.execute_reply": "2021-10-19T08:52:45.516850Z"
    },
    "trusted": true
   },
   "execution_count": 447,
   "outputs": []
  },
  {
   "cell_type": "code",
   "source": "sample_answer[\"target\"] = pred\nsample_answer[\"target\"] = sample_answer[\"target\"].apply(lambda x : 0 if x<=.5 else 1)",
   "metadata": {
    "execution": {
     "iopub.status.busy": "2021-10-19T08:52:45.519018Z",
     "iopub.execute_input": "2021-10-19T08:52:45.519351Z",
     "iopub.status.idle": "2021-10-19T08:52:45.526768Z",
     "shell.execute_reply.started": "2021-10-19T08:52:45.519318Z",
     "shell.execute_reply": "2021-10-19T08:52:45.526004Z"
    },
    "trusted": true
   },
   "execution_count": 448,
   "outputs": []
  },
  {
   "cell_type": "code",
   "source": "sample_answer.to_csv(\"submission.csv\", index=False)",
   "metadata": {
    "execution": {
     "iopub.status.busy": "2021-10-19T08:52:45.528250Z",
     "iopub.execute_input": "2021-10-19T08:52:45.528637Z",
     "iopub.status.idle": "2021-10-19T08:52:45.541585Z",
     "shell.execute_reply.started": "2021-10-19T08:52:45.528602Z",
     "shell.execute_reply": "2021-10-19T08:52:45.540058Z"
    },
    "trusted": true
   },
   "execution_count": 449,
   "outputs": []
  },
  {
   "cell_type": "markdown",
   "source": "# Bidirectional LSTM",
   "metadata": {}
  },
  {
   "cell_type": "code",
   "source": "model_BLS=Sequential()\nmodel_BLS.add(Embedding(vocab_size, embed_units, input_length = maxlen))\nmodel_BLS.add(Bidirectional(LSTM(hidden_units)))\nmodel_BLS.add(Dropout(0.2))\nmodel_BLS.add(Dense(256, activation='relu'))\nmodel_BLS.add(Dropout(0.2))\nmodel_BLS.add(Dense(1, activation='sigmoid'))\n\nmodel_BLS.summary()",
   "metadata": {
    "execution": {
     "iopub.status.busy": "2021-10-19T08:52:45.542803Z",
     "iopub.execute_input": "2021-10-19T08:52:45.543385Z",
     "iopub.status.idle": "2021-10-19T08:52:45.980467Z",
     "shell.execute_reply.started": "2021-10-19T08:52:45.543348Z",
     "shell.execute_reply": "2021-10-19T08:52:45.979753Z"
    },
    "trusted": true
   },
   "execution_count": 450,
   "outputs": []
  },
  {
   "cell_type": "code",
   "source": "learning_rate = 1e-4\n\nmodel_BLS.compile(loss = 'binary_crossentropy',\n              optimizer = 'adam',\n              metrics = ['accuracy'])",
   "metadata": {
    "execution": {
     "iopub.status.busy": "2021-10-19T08:52:45.981803Z",
     "iopub.execute_input": "2021-10-19T08:52:45.982211Z",
     "iopub.status.idle": "2021-10-19T08:52:45.992283Z",
     "shell.execute_reply.started": "2021-10-19T08:52:45.982173Z",
     "shell.execute_reply": "2021-10-19T08:52:45.991590Z"
    },
    "trusted": true
   },
   "execution_count": 451,
   "outputs": []
  },
  {
   "cell_type": "code",
   "source": "model_BLS_history = model_BLS.fit(X_train_pad, y_train, \n                          batch_size=256, \n                          epochs=15, \n                          validation_split=0.2,\n                          callbacks=[es_cb])",
   "metadata": {
    "execution": {
     "iopub.status.busy": "2021-10-19T08:52:45.993689Z",
     "iopub.execute_input": "2021-10-19T08:52:45.994001Z",
     "iopub.status.idle": "2021-10-19T08:52:51.455715Z",
     "shell.execute_reply.started": "2021-10-19T08:52:45.993966Z",
     "shell.execute_reply": "2021-10-19T08:52:51.455001Z"
    },
    "trusted": true
   },
   "execution_count": 452,
   "outputs": []
  },
  {
   "cell_type": "code",
   "source": "pred = model_BLS.predict(X_test_pad, verbose = 1)",
   "metadata": {
    "execution": {
     "iopub.status.busy": "2021-10-19T08:52:51.459860Z",
     "iopub.execute_input": "2021-10-19T08:52:51.460413Z",
     "iopub.status.idle": "2021-10-19T08:52:52.258480Z",
     "shell.execute_reply.started": "2021-10-19T08:52:51.460368Z",
     "shell.execute_reply": "2021-10-19T08:52:52.257804Z"
    },
    "trusted": true
   },
   "execution_count": 453,
   "outputs": []
  },
  {
   "cell_type": "code",
   "source": "sample_answer[\"target\"] = pred\nsample_answer[\"target\"] = sample_answer[\"target\"].apply(lambda x : 0 if x<=.5 else 1)",
   "metadata": {
    "execution": {
     "iopub.status.busy": "2021-10-19T08:52:52.259788Z",
     "iopub.execute_input": "2021-10-19T08:52:52.260029Z",
     "iopub.status.idle": "2021-10-19T08:52:52.267865Z",
     "shell.execute_reply.started": "2021-10-19T08:52:52.259996Z",
     "shell.execute_reply": "2021-10-19T08:52:52.267176Z"
    },
    "trusted": true
   },
   "execution_count": 454,
   "outputs": []
  },
  {
   "cell_type": "code",
   "source": "sample_answer.to_csv(\"submission.csv\", index=False)",
   "metadata": {
    "execution": {
     "iopub.status.busy": "2021-10-19T08:52:52.269226Z",
     "iopub.execute_input": "2021-10-19T08:52:52.269781Z",
     "iopub.status.idle": "2021-10-19T08:52:52.285765Z",
     "shell.execute_reply.started": "2021-10-19T08:52:52.269743Z",
     "shell.execute_reply": "2021-10-19T08:52:52.285119Z"
    },
    "trusted": true
   },
   "execution_count": 455,
   "outputs": []
  },
  {
   "cell_type": "code",
   "source": "",
   "metadata": {},
   "execution_count": null,
   "outputs": []
  }
 ]
}